{
 "cells": [
  {
   "cell_type": "markdown",
   "id": "6e347648",
   "metadata": {},
   "source": [
    "# Valves design for adaptive air cushion\n",
    "\n",
    "The following notebook was written in order to help design of the adaptive valve for air cushion. The goal is to compute vent hole area in function of displacement of mechanical actuator as well as verify functional properties.\n",
    "\n",
    "![](images/valve_design_conconcept_1.png)"
   ]
  },
  {
   "cell_type": "code",
   "execution_count": 1,
   "id": "a0da5abf",
   "metadata": {},
   "outputs": [],
   "source": [
    "#import libraries\n",
    "import math\n",
    "import numpy as np\n",
    "import pandas as pd\n",
    "import matplotlib.pyplot as plt\n",
    "from pathlib import Path\n",
    "from IPython.display import Video"
   ]
  },
  {
   "cell_type": "markdown",
   "id": "3ba8b29e",
   "metadata": {},
   "source": [
    "### Define parameters for oryginal and new shape of vent holes"
   ]
  },
  {
   "cell_type": "code",
   "execution_count": 2,
   "id": "883a0470",
   "metadata": {},
   "outputs": [],
   "source": [
    "# INPUTS\n",
    "# all values in units of [mm] or 10e-2[m]\n",
    "original_r = 10 # radius of original round vent hole\n",
    "r = 15 # slot radius\n",
    "slot_width = 30 # slot width - arc center to center\n",
    "#Set value to 0 in order to change vent hole shape to round"
   ]
  },
  {
   "cell_type": "markdown",
   "id": "219aab9e",
   "metadata": {},
   "source": [
    "![](images/slot.png)"
   ]
  },
  {
   "cell_type": "markdown",
   "id": "7df1fc07",
   "metadata": {},
   "source": [
    "### Compare old and new vent holes area"
   ]
  },
  {
   "cell_type": "code",
   "execution_count": 3,
   "id": "f9eab648",
   "metadata": {},
   "outputs": [
    {
     "name": "stdout",
     "output_type": "stream",
     "text": [
      "Original round vent hole area: 314.16 mm2\n",
      "Slot vent hole area: 1606.86 mm2\n",
      "Vent valve area ratio: 5.11\n"
     ]
    }
   ],
   "source": [
    "original_vent_hole_area = round(math.pi*original_r**2, 2)\n",
    "slot_area = round(math.pi*r**2 + (slot_width * (2*r)), 2)\n",
    "slot_ratio = round(slot_area / original_vent_hole_area, 2)\n",
    "print('Original round vent hole area: {} mm2\\nSlot vent hole area: {} mm2'.format(original_vent_hole_area, slot_area))\n",
    "print('Vent valve area ratio: {}'.format(slot_ratio))"
   ]
  },
  {
   "cell_type": "markdown",
   "id": "c3e5e036",
   "metadata": {},
   "source": [
    "### Compute area of circle slice\n",
    "![](images/circle.png)"
   ]
  },
  {
   "cell_type": "code",
   "execution_count": 4,
   "id": "6a138a4e",
   "metadata": {},
   "outputs": [
    {
     "name": "stdout",
     "output_type": "stream",
     "text": [
      "CIRCLE DATA:\n",
      "Circle diameter: 30 mm\n",
      "Circle area: 707 mm2\n",
      "\n",
      "COMPUTED DATA:\n",
      "Valve position from edge: 10 mm\n",
      "Length of circle chord: 28 mm\n",
      "Arc central angle: 141.06 deg\n",
      "Area of circle slice: 206.26 mm2\n",
      "\n"
     ]
    }
   ],
   "source": [
    "# valve position from edge\n",
    "# could be in range from 0 (completely open valve)\n",
    "# to 2*r (completely colsed valve)\n",
    "val_pos = 10 # [mm]\n",
    "\n",
    "try:\n",
    "    if not (0 < val_pos < 2*r):\n",
    "        raise ValueError(\"ERROR! Valve position must be in range from 0 to {}!\"\n",
    "                         .format(2*r))\n",
    "except ValueError as e:\n",
    "    print(e)\n",
    "\n",
    "# compute height of inner triangle - valve position from circle center\n",
    "if 0 < val_pos <= r:\n",
    "    h = r - val_pos\n",
    "elif r < val_pos < 2*r:\n",
    "    h = val_pos - r\n",
    "\n",
    "# print circle data\n",
    "print('CIRCLE DATA:')\n",
    "print('Circle diameter: {} mm\\nCircle area: {} mm2\\n'.format(2*r, round(math.pi*r**2),2))\n",
    "# compute dimensions of inner triangle \n",
    "a_2 = math.sqrt(r**2 - h**2) # compute side of the inner triangle \n",
    "circle_chord = a_2*2 # compute circle chord\n",
    "print('COMPUTED DATA:')\n",
    "print('Valve position from edge: {} mm'.format(val_pos))\n",
    "print('Length of circle chord: {} mm'.format(round(circle_chord)))\n",
    "# compute vertex angle\n",
    "alpha = 2*math.asin(a_2/r)*(180/math.pi)\n",
    "print('Arc central angle: {} deg'.format(round(alpha, 2)))\n",
    "# compute triangle area\n",
    "triangle_area = 0.5*(2*a_2 * h)\n",
    "# compute circle slice area\n",
    "circle_slice_area = ((alpha/360)*math.pi*r**2) - triangle_area\n",
    "print('Area of circle slice: {} mm2\\n'.format(round(circle_slice_area, 2)))"
   ]
  },
  {
   "cell_type": "markdown",
   "id": "8de5abe7",
   "metadata": {},
   "source": [
    "### Compute single vent hole area for adaptive valve"
   ]
  },
  {
   "cell_type": "code",
   "execution_count": 5,
   "id": "b6de22ac",
   "metadata": {},
   "outputs": [],
   "source": [
    "# create valve position vector\n",
    "val_pos = np.arange(0.1, int(2*r), 0.1)"
   ]
  },
  {
   "cell_type": "code",
   "execution_count": 6,
   "id": "d06a7486",
   "metadata": {},
   "outputs": [
    {
     "name": "stdout",
     "output_type": "stream",
     "text": [
      "(299,)\n",
      "(299,)\n"
     ]
    }
   ],
   "source": [
    "valve_crossection_area = 0 #initialize variable for valve crossection area\n",
    "# compute vent hole area base on valve position \n",
    "valve_data = []\n",
    "for i in range(len(val_pos)):\n",
    "    # compute height of inner triangle - valve position from circle center\n",
    "    if 0 < val_pos[i] <= r:\n",
    "        h = r - val_pos[i]\n",
    "    elif r < val_pos[i] < 2*r:\n",
    "        h = val_pos[i] - r\n",
    "    \n",
    "    a_2 = math.sqrt(r**2 - h**2) # compute side of the inner triangle \n",
    "    circle_chord = a_2*2 # compute circle chord\n",
    "    alpha = 2*math.asin(a_2/r)*(180/math.pi) # compute vertex angle\n",
    "    triangle_area = 0.5*(2*a_2 * h) # compute triangle area\n",
    "    circle_slice_area = ((alpha/360)*math.pi*r**2) - triangle_area # compute circle slice area\n",
    "    \n",
    "    if 0 < val_pos[i] <= r:\n",
    "        valve_crossection_area = slot_area - (circle_slice_area + (r - h)*slot_width)\n",
    "        \n",
    "    elif r < val_pos[i] < 2*r:\n",
    "        valve_crossection_area = circle_slice_area + (r - h)*slot_width\n",
    "    \n",
    "    valve_data.append(valve_crossection_area)\n",
    "valve_data = np.array(valve_data) # convert vector to np array\n",
    "# check vector size\n",
    "print(np.shape(val_pos))\n",
    "print(np.shape(valve_data))"
   ]
  },
  {
   "cell_type": "markdown",
   "id": "c319b974",
   "metadata": {},
   "source": [
    "### Plot vent hole flow area"
   ]
  },
  {
   "cell_type": "code",
   "execution_count": 7,
   "id": "bf08dca4",
   "metadata": {},
   "outputs": [
    {
     "data": {
      "image/png": "[encoded data removed]",
      "text/plain": [
       "<Figure size 432x288 with 1 Axes>"
      ]
     },
     "metadata": {
      "needs_background": "light"
     },
     "output_type": "display_data"
    }
   ],
   "source": [
    "fig, valve_dispacement = plt.subplots() # create a plot\n",
    "if slot_width > 0:\n",
    "    title = 'rounded slot shape'\n",
    "else:\n",
    "    title = 'circle shape'\n",
    "valve_dispacement.set_title('Adaptive valve - ' + title)\n",
    "valve_dispacement.set_xlabel('Valve position [mm]')\n",
    "valve_dispacement.set_ylabel('Vent hole area [mm$^{2}$]')\n",
    "valve_dispacement.text(0, original_vent_hole_area + 50, 'Original  vent hole area', color='red')\n",
    "valve_dispacement.grid()\n",
    "valve_dispacement.plot(val_pos, valve_data) # plot computed data\n",
    "plt.axhline(original_vent_hole_area, color='red',ls='--')\n",
    "plt.show()"
   ]
  },
  {
   "cell_type": "markdown",
   "id": "cf02df3f",
   "metadata": {},
   "source": [
    "### Check vent hooles spacing"
   ]
  },
  {
   "cell_type": "code",
   "execution_count": 8,
   "id": "37f9f877",
   "metadata": {},
   "outputs": [],
   "source": [
    "# INPUT\n",
    "valve_width = 100 # [mm] set sliding valve width\n",
    "horizontal_edge_spacing = 15 # [mm]\n",
    "vertical_edge_spacing =  2 #[mm]\n",
    "vent_hole_spacing = 55 # [mm] data for 1:2 scale design\n",
    "actuatior_displacement_limit = 50 #[mm]"
   ]
  },
  {
   "cell_type": "code",
   "execution_count": 9,
   "id": "dd03adc1",
   "metadata": {},
   "outputs": [
    {
     "name": "stdout",
     "output_type": "stream",
     "text": [
      "CHECK VALVE DESIGN REQUIREMENT:\n",
      "- Required horizontal displacement for valve 23 mm\n",
      "- Required valve displacement within actuator limit\n",
      "- Valve horizontal spacing ok\n",
      "- Valve width ok\n"
     ]
    }
   ],
   "source": [
    "# calcultions\n",
    "slot_height = 2*r\n",
    "\n",
    "# find nearest value of valve displacement to match the oryginal vent hole area \n",
    "index = (np.abs(valve_data - original_vent_hole_area)).argmin()\n",
    "# determine required displacement for valve\n",
    "valve_position_limit = round(val_pos[index])\n",
    "\n",
    "print('CHECK VALVE DESIGN REQUIREMENT:')\n",
    "print('- Required horizontal displacement for valve {} mm'.format(valve_position_limit))\n",
    "\n",
    "# check if dispacement limit is not exceded\n",
    "if actuatior_displacement_limit >= valve_position_limit:\n",
    "    print('- Required valve displacement within actuator limit')\n",
    "else:\n",
    "    print('''- Required valve displacement exceded {} mm!\n",
    "    Consider different vent hole shape or change of actuator'''\n",
    "          .format(abs(actuatior_displacement_limit - valve_position_limit)))\n",
    "\n",
    "# chceck vent hole horizontal spacing\n",
    "if (vent_hole_spacing - 2*r -valve_position_limit - vertical_edge_spacing) >= 0:\n",
    "    print('- Valve horizontal spacing ok')\n",
    "else:\n",
    "    print(\"\"\"- Valve horizontal spacing exceded of: {} mm!\n",
    "    Reduce 'r'\"\"\"\n",
    "          .format(abs(vent_hole_spacing - 2*r -valve_position_limit - vertical_edge_spacing)))\n",
    "   \n",
    "# chceck vent hole vertical spacing\n",
    "if (valve_width - 2*horizontal_edge_spacing) >= (2*r + slot_width):\n",
    "    print('- Valve width ok')\n",
    "else:\n",
    "    print(\"\"\"- Valve width exceded of: {} mm!\n",
    "    Reduce 'slot_width' or 'r\"\"\"\n",
    "          .format((2*r + slot_width) - (valve_width - 2*horizontal_edge_spacing)))"
   ]
  }
 ],
 "metadata": {
  "kernelspec": {
   "display_name": "Python 3 (ipykernel)",
   "language": "python",
   "name": "python3"
  },
  "language_info": {
   "codemirror_mode": {
    "name": "ipython",
    "version": 3
   },
   "file_extension": ".py",
   "mimetype": "text/x-python",
   "name": "python",
   "nbconvert_exporter": "python",
   "pygments_lexer": "ipython3",
   "version": "3.9.12"
  }
 },
 "nbformat": 4,
 "nbformat_minor": 5
}
