{
 "cells": [
  {
   "cell_type": "markdown",
   "id": "6e347648",
   "metadata": {},
   "source": [
    "# Valves design for adaptive air cushion\n",
    "\n",
    "The following notebook was written in order to help design of the adaptive valve for air cushion. The goal is to compute vent hole area in function of displacement of mechanical actuator as well as verify functional properties.\n",
    "\n",
    "![](images/valve_design_conconcept_1.png)"
   ]
  },
  {
   "cell_type": "code",
   "execution_count": 1,
   "id": "a0da5abf",
   "metadata": {},
   "outputs": [],
   "source": [
    "#import libraries\n",
    "import math\n",
    "import numpy as np\n",
    "import pandas as pd\n",
    "import matplotlib.pyplot as plt\n",
    "from pathlib import Path\n",
    "from IPython.display import Video"
   ]
  },
  {
   "cell_type": "markdown",
   "id": "3ba8b29e",
   "metadata": {},
   "source": [
    "### Define parameters for oryginal and new shape of vent holes"
   ]
  },
  {
   "cell_type": "code",
   "execution_count": 2,
   "id": "883a0470",
   "metadata": {},
   "outputs": [],
   "source": [
    "# INPUTS\n",
    "# all values in units of [mm] or 10e-2[m]\n",
    "original_r = 10 # radius of original round vent hole\n",
    "r = 15 # slot radius\n",
    "slot_width = 30 # slot width - arc center to center\n",
    "#Set value to 0 in order to change vent hole shape to round"
   ]
  },
  {
   "cell_type": "markdown",
   "id": "219aab9e",
   "metadata": {},
   "source": [
    "![](images/slot.png)"
   ]
  },
  {
   "cell_type": "markdown",
   "id": "7df1fc07",
   "metadata": {},
   "source": [
    "### Compare old and new vent holes area"
   ]
  },
  {
   "cell_type": "code",
   "execution_count": 3,
   "id": "f9eab648",
   "metadata": {},
   "outputs": [
    {
     "name": "stdout",
     "output_type": "stream",
     "text": [
      "Original round vent hole area: 314.16 mm2\n",
      "Slot vent hole area: 1606.86 mm2\n",
      "Vent valve area ratio: 5.11\n"
     ]
    }
   ],
   "source": [
    "original_vent_hole_area = round(math.pi*original_r**2, 2)\n",
    "slot_area = round(math.pi*r**2 + (slot_width * (2*r)), 2)\n",
    "slot_ratio = round(slot_area / original_vent_hole_area, 2)\n",
    "print('Original round vent hole area: {} mm2\\nSlot vent hole area: {} mm2'.format(original_vent_hole_area, slot_area))\n",
    "print('Vent valve area ratio: {}'.format(slot_ratio))"
   ]
  },
  {
   "cell_type": "markdown",
   "id": "c3e5e036",
   "metadata": {},
   "source": [
    "### Compute area of circle slice\n",
    "![](images/circle.png)"
   ]
  },
  {
   "cell_type": "code",
   "execution_count": 4,
   "id": "6a138a4e",
   "metadata": {},
   "outputs": [
    {
     "name": "stdout",
     "output_type": "stream",
     "text": [
      "CIRCLE DATA:\n",
      "Circle diameter: 30 mm\n",
      "Circle area: 707 mm2\n",
      "\n",
      "COMPUTED DATA:\n",
      "Valve position from edge: 10 mm\n",
      "Length of circle chord: 28 mm\n",
      "Arc central angle: 141.06 deg\n",
      "Area of circle slice: 206.26 mm2\n",
      "\n"
     ]
    }
   ],
   "source": [
    "# valve position from edge\n",
    "# could be in range from 0 (completely open valve)\n",
    "# to 2*r (completely colsed valve)\n",
    "val_pos = 10 # [mm]\n",
    "\n",
    "try:\n",
    "    if not (0 < val_pos < 2*r):\n",
    "        raise ValueError(\"ERROR! Valve position must be in range from 0 to {}!\"\n",
    "                         .format(2*r))\n",
    "except ValueError as e:\n",
    "    print(e)\n",
    "\n",
    "# compute height of inner triangle - valve position from circle center\n",
    "if 0 < val_pos <= r:\n",
    "    h = r - val_pos\n",
    "elif r < val_pos < 2*r:\n",
    "    h = val_pos - r\n",
    "\n",
    "# print circle data\n",
    "print('CIRCLE DATA:')\n",
    "print('Circle diameter: {} mm\\nCircle area: {} mm2\\n'.format(2*r, round(math.pi*r**2),2))\n",
    "# compute dimensions of inner triangle \n",
    "a_2 = math.sqrt(r**2 - h**2) # compute side of the inner triangle \n",
    "circle_chord = a_2*2 # compute circle chord\n",
    "print('COMPUTED DATA:')\n",
    "print('Valve position from edge: {} mm'.format(val_pos))\n",
    "print('Length of circle chord: {} mm'.format(round(circle_chord)))\n",
    "# compute vertex angle\n",
    "alpha = 2*math.asin(a_2/r)*(180/math.pi)\n",
    "print('Arc central angle: {} deg'.format(round(alpha, 2)))\n",
    "# compute triangle area\n",
    "triangle_area = 0.5*(2*a_2 * h)\n",
    "# compute circle slice area\n",
    "circle_slice_area = ((alpha/360)*math.pi*r**2) - triangle_area\n",
    "print('Area of circle slice: {} mm2\\n'.format(round(circle_slice_area, 2)))"
   ]
  },
  {
   "cell_type": "markdown",
   "id": "8de5abe7",
   "metadata": {},
   "source": [
    "### Compute single vent hole area for adaptive valve"
   ]
  },
  {
   "cell_type": "code",
   "execution_count": 5,
   "id": "b6de22ac",
   "metadata": {},
   "outputs": [],
   "source": [
    "# create valve position vector\n",
    "val_pos = np.arange(0.1, int(2*r), 0.1)"
   ]
  },
  {
   "cell_type": "code",
   "execution_count": 6,
   "id": "d06a7486",
   "metadata": {},
   "outputs": [
    {
     "name": "stdout",
     "output_type": "stream",
     "text": [
      "(299,)\n",
      "(299,)\n"
     ]
    }
   ],
   "source": [
    "valve_crossection_area = 0 #initialize variable for valve crossection area\n",
    "# compute vent hole area base on valve position \n",
    "valve_data = []\n",
    "for i in range(len(val_pos)):\n",
    "    # compute height of inner triangle - valve position from circle center\n",
    "    if 0 < val_pos[i] <= r:\n",
    "        h = r - val_pos[i]\n",
    "    elif r < val_pos[i] < 2*r:\n",
    "        h = val_pos[i] - r\n",
    "    \n",
    "    a_2 = math.sqrt(r**2 - h**2) # compute side of the inner triangle \n",
    "    circle_chord = a_2*2 # compute circle chord\n",
    "    alpha = 2*math.asin(a_2/r)*(180/math.pi) # compute vertex angle\n",
    "    triangle_area = 0.5*(2*a_2 * h) # compute triangle area\n",
    "    circle_slice_area = ((alpha/360)*math.pi*r**2) - triangle_area # compute circle slice area\n",
    "    \n",
    "    if 0 < val_pos[i] <= r:\n",
    "        valve_crossection_area = slot_area - (circle_slice_area + (r - h)*slot_width)\n",
    "        \n",
    "    elif r < val_pos[i] < 2*r:\n",
    "        valve_crossection_area = circle_slice_area + (r - h)*slot_width\n",
    "    \n",
    "    valve_data.append(valve_crossection_area)\n",
    "valve_data = np.array(valve_data) # convert vector to np array\n",
    "# check vector size\n",
    "print(np.shape(val_pos))\n",
    "print(np.shape(valve_data))"
   ]
  },
  {
   "cell_type": "markdown",
   "id": "c319b974",
   "metadata": {},
   "source": [
    "### Plot vent hole flow area"
   ]
  },
  {
   "cell_type": "code",
   "execution_count": 7,
   "id": "bf08dca4",
   "metadata": {},
   "outputs": [
    {
     "data": {
      "image/png": "[encoded data removed]",
      "text/plain": [
       "<Figure size 432x288 with 1 Axes>"
      ]
     },
     "metadata": {
      "needs_background": "light"
     },
     "output_type": "display_data"
    }
   ],
   "source": [
    "fig, valve_dispacement = plt.subplots() # create a plot\n",
    "if slot_width > 0:\n",
    "    title = 'rounded slot shape'\n",
    "else:\n",
    "    title = 'circle shape'\n",
    "valve_dispacement.set_title('Adaptive valve - ' + title)\n",
    "valve_dispacement.set_xlabel('Valve position [mm]')\n",
    "valve_dispacement.set_ylabel('Vent hole area [mm$^{2}$]')\n",
    "valve_dispacement.text(0, original_vent_hole_area + 50, 'Original  vent hole area', color='red')\n",
    "valve_dispacement.grid()\n",
    "valve_dispacement.plot(val_pos, valve_data) # plot computed data\n",
    "plt.axhline(original_vent_hole_area, color='red',ls='--')\n",
    "plt.show()"
   ]
  },
  {
   "cell_type": "markdown",
   "id": "cf02df3f",
   "metadata": {},
   "source": [
    "### Check vent hooles spacing"
   ]
  },
  {
   "cell_type": "code",
   "execution_count": 8,
   "id": "37f9f877",
   "metadata": {},
   "outputs": [],
   "source": [
    "# INPUT\n",
    "valve_width = 100 # [mm] set sliding valve width\n",
    "horizontal_edge_spacing = 15 # [mm]\n",
    "vertical_edge_spacing =  2 #[mm]\n",
    "vent_hole_spacing = 55 # [mm] data for 1:2 scale design\n",
    "actuatior_displacement_limit = 50 #[mm]"
   ]
  },
  {
   "cell_type": "code",
   "execution_count": 9,
   "id": "dd03adc1",
   "metadata": {},
   "outputs": [
    {
     "name": "stdout",
     "output_type": "stream",
     "text": [
      "CHECK VALVE DESIGN REQUIREMENT:\n",
      "- Required horizontal displacement for valve 23 mm\n",
      "- Required valve displacement within actuator limit\n",
      "- Valve horizontal spacing ok\n",
      "- Valve width ok\n"
     ]
    }
   ],
   "source": [
    "# calcultions\n",
    "slot_height = 2*r\n",
    "\n",
    "# find nearest value of valve displacement to match the oryginal vent hole area \n",
    "index = (np.abs(valve_data - original_vent_hole_area)).argmin()\n",
    "# determine required displacement for valve\n",
    "valve_position_limit = round(val_pos[index])\n",
    "\n",
    "print('CHECK VALVE DESIGN REQUIREMENT:')\n",
    "print('- Required horizontal displacement for valve {} mm'.format(valve_position_limit))\n",
    "\n",
    "# check if dispacement limit is not exceded\n",
    "if actuatior_displacement_limit >= valve_position_limit:\n",
    "    print('- Required valve displacement within actuator limit')\n",
    "else:\n",
    "    print('''- Required valve displacement exceded {} mm!\n",
    "    Consider different vent hole shape or change of actuator'''\n",
    "          .format(abs(actuatior_displacement_limit - valve_position_limit)))\n",
    "\n",
    "# chceck vent hole horizontal spacing\n",
    "if (vent_hole_spacing - 2*r -valve_position_limit - vertical_edge_spacing) >= 0:\n",
    "    print('- Valve horizontal spacing ok')\n",
    "else:\n",
    "    print(\"\"\"- Valve horizontal spacing exceded of: {} mm!\n",
    "    Reduce 'r'\"\"\"\n",
    "          .format(abs(vent_hole_spacing - 2*r -valve_position_limit - vertical_edge_spacing)))\n",
    "   \n",
    "# chceck vent hole vertical spacing\n",
    "if (valve_width - 2*horizontal_edge_spacing) >= (2*r + slot_width):\n",
    "    print('- Valve width ok')\n",
    "else:\n",
    "    print(\"\"\"- Valve width exceded of: {} mm!\n",
    "    Reduce 'slot_width' or 'r\"\"\"\n",
    "          .format((2*r + slot_width) - (valve_width - 2*horizontal_edge_spacing)))"
   ]
  },
  {
   "cell_type": "markdown",
   "id": "4b653d0c",
   "metadata": {},
   "source": [
    "# Experimental results for adaptive air caution"
   ]
  },
  {
   "cell_type": "markdown",
   "id": "0bde558a",
   "metadata": {},
   "source": [
    "### Impact absorption of the air cushion - opening of valves 1:4"
   ]
  },
  {
   "cell_type": "code",
   "execution_count": 10,
   "id": "95d628fa",
   "metadata": {},
   "outputs": [
    {
     "data": {
      "text/html": [
       "<div>\n",
       "<style scoped>\n",
       "    .dataframe tbody tr th:only-of-type {\n",
       "        vertical-align: middle;\n",
       "    }\n",
       "\n",
       "    .dataframe tbody tr th {\n",
       "        vertical-align: top;\n",
       "    }\n",
       "\n",
       "    .dataframe thead th {\n",
       "        text-align: right;\n",
       "    }\n",
       "</style>\n",
       "<table border=\"1\" class=\"dataframe\">\n",
       "  <thead>\n",
       "    <tr style=\"text-align: right;\">\n",
       "      <th></th>\n",
       "      <th>Top chamber pressure</th>\n",
       "      <th>Bottom chamber pressure</th>\n",
       "      <th>Air frame pressure</th>\n",
       "      <th>Absolute pressure</th>\n",
       "      <th>Force 1</th>\n",
       "      <th>Force 2</th>\n",
       "      <th>Force 3</th>\n",
       "      <th>Force 4</th>\n",
       "      <th>Sum of forces</th>\n",
       "    </tr>\n",
       "  </thead>\n",
       "  <tbody>\n",
       "    <tr>\n",
       "      <th>0</th>\n",
       "      <td>-0.164356</td>\n",
       "      <td>0.274846</td>\n",
       "      <td>146.752987</td>\n",
       "      <td>993.343003</td>\n",
       "      <td>65.131911</td>\n",
       "      <td>315.935403</td>\n",
       "      <td>5221.493786</td>\n",
       "      <td>75.123595</td>\n",
       "      <td>5677.684694</td>\n",
       "    </tr>\n",
       "    <tr>\n",
       "      <th>1</th>\n",
       "      <td>1.600660</td>\n",
       "      <td>-0.960666</td>\n",
       "      <td>147.327551</td>\n",
       "      <td>994.697589</td>\n",
       "      <td>62.901900</td>\n",
       "      <td>311.669308</td>\n",
       "      <td>5221.493786</td>\n",
       "      <td>70.214512</td>\n",
       "      <td>5666.279506</td>\n",
       "    </tr>\n",
       "    <tr>\n",
       "      <th>2</th>\n",
       "      <td>-0.234136</td>\n",
       "      <td>0.061402</td>\n",
       "      <td>145.932182</td>\n",
       "      <td>995.846935</td>\n",
       "      <td>64.972624</td>\n",
       "      <td>312.775333</td>\n",
       "      <td>5221.493786</td>\n",
       "      <td>74.015092</td>\n",
       "      <td>5673.256834</td>\n",
       "    </tr>\n",
       "    <tr>\n",
       "      <th>3</th>\n",
       "      <td>0.147600</td>\n",
       "      <td>0.172228</td>\n",
       "      <td>145.193457</td>\n",
       "      <td>994.410253</td>\n",
       "      <td>65.450484</td>\n",
       "      <td>313.565350</td>\n",
       "      <td>5221.493786</td>\n",
       "      <td>73.856735</td>\n",
       "      <td>5674.366354</td>\n",
       "    </tr>\n",
       "    <tr>\n",
       "      <th>4</th>\n",
       "      <td>1.391321</td>\n",
       "      <td>-0.981189</td>\n",
       "      <td>146.999229</td>\n",
       "      <td>994.205013</td>\n",
       "      <td>63.698332</td>\n",
       "      <td>311.669308</td>\n",
       "      <td>5221.493786</td>\n",
       "      <td>71.639730</td>\n",
       "      <td>5668.501156</td>\n",
       "    </tr>\n",
       "  </tbody>\n",
       "</table>\n",
       "</div>"
      ],
      "text/plain": [
       "   Top chamber pressure  Bottom chamber pressure  Air frame pressure  \\\n",
       "0             -0.164356                 0.274846          146.752987   \n",
       "1              1.600660                -0.960666          147.327551   \n",
       "2             -0.234136                 0.061402          145.932182   \n",
       "3              0.147600                 0.172228          145.193457   \n",
       "4              1.391321                -0.981189          146.999229   \n",
       "\n",
       "   Absolute pressure    Force 1     Force 2      Force 3    Force 4  \\\n",
       "0         993.343003  65.131911  315.935403  5221.493786  75.123595   \n",
       "1         994.697589  62.901900  311.669308  5221.493786  70.214512   \n",
       "2         995.846935  64.972624  312.775333  5221.493786  74.015092   \n",
       "3         994.410253  65.450484  313.565350  5221.493786  73.856735   \n",
       "4         994.205013  63.698332  311.669308  5221.493786  71.639730   \n",
       "\n",
       "   Sum of forces  \n",
       "0    5677.684694  \n",
       "1    5666.279506  \n",
       "2    5673.256834  \n",
       "3    5674.366354  \n",
       "4    5668.501156  "
      ]
     },
     "execution_count": 10,
     "metadata": {},
     "output_type": "execute_result"
    }
   ],
   "source": [
    "# set file path\n",
    "file_name = 'zrzut_m10kg_h3500_v1-4_1.txt'\n",
    "data_dir = 'Pomiary/SkokochronAdaptacyjny/'\n",
    "crio_data_dir = Path(data_dir, 'data_crio/')\n",
    "shimmer_data_dir = Path(data_dir, 'data_shimmer/')\n",
    "\n",
    "# load data from c-rio\n",
    "crio_data = pd.read_csv(Path(crio_data_dir, file_name), sep='\\t', header = None)\n",
    "crio_data.drop([0, 10], axis = 1, inplace=True)\n",
    "crio_data.columns = ['Top chamber pressure', 'Bottom chamber pressure','Air frame pressure',\\\n",
    "                     'Absolute pressure', 'Force 1', 'Force 2',\\\n",
    "                     'Force 3', 'Force 4', 'Sum of forces']\n",
    "crio_data.head()"
   ]
  },
  {
   "cell_type": "code",
   "execution_count": 11,
   "id": "7717abed",
   "metadata": {},
   "outputs": [
    {
     "data": {
      "text/html": [
       "<div>\n",
       "<style scoped>\n",
       "    .dataframe tbody tr th:only-of-type {\n",
       "        vertical-align: middle;\n",
       "    }\n",
       "\n",
       "    .dataframe tbody tr th {\n",
       "        vertical-align: top;\n",
       "    }\n",
       "\n",
       "    .dataframe thead th {\n",
       "        text-align: right;\n",
       "    }\n",
       "</style>\n",
       "<table border=\"1\" class=\"dataframe\">\n",
       "  <thead>\n",
       "    <tr style=\"text-align: right;\">\n",
       "      <th></th>\n",
       "      <th>Timestamp</th>\n",
       "      <th>PC Timestamp</th>\n",
       "      <th>Low Noise Accelerometer X</th>\n",
       "      <th>Low Noise Accelerometer Y</th>\n",
       "      <th>Low Noise Accelerometer Z</th>\n",
       "      <th>Int A12</th>\n",
       "      <th>Int A13</th>\n",
       "      <th>Int A14</th>\n",
       "      <th>Gyroscope X</th>\n",
       "      <th>Gyroscope Y</th>\n",
       "      <th>Gyroscope Z</th>\n",
       "      <th>Wide Range Accelerometer X</th>\n",
       "      <th>Wide Range Accelerometer Y</th>\n",
       "      <th>Wide Range Accelerometer Z</th>\n",
       "    </tr>\n",
       "  </thead>\n",
       "  <tbody>\n",
       "    <tr>\n",
       "      <th>0</th>\n",
       "      <td>144075.287</td>\n",
       "      <td>NaN</td>\n",
       "      <td>-5.815</td>\n",
       "      <td>2.457</td>\n",
       "      <td>20.957</td>\n",
       "      <td>1504.029</td>\n",
       "      <td>1501.099</td>\n",
       "      <td>1495.971</td>\n",
       "      <td>-2.626</td>\n",
       "      <td>0.916</td>\n",
       "      <td>3.359</td>\n",
       "      <td>-0.383</td>\n",
       "      <td>-1.148</td>\n",
       "      <td>-9.263</td>\n",
       "    </tr>\n",
       "    <tr>\n",
       "      <th>1</th>\n",
       "      <td>144076.263</td>\n",
       "      <td>NaN</td>\n",
       "      <td>-5.837</td>\n",
       "      <td>2.457</td>\n",
       "      <td>20.967</td>\n",
       "      <td>1504.029</td>\n",
       "      <td>1501.099</td>\n",
       "      <td>1495.971</td>\n",
       "      <td>-2.595</td>\n",
       "      <td>0.962</td>\n",
       "      <td>3.389</td>\n",
       "      <td>-0.383</td>\n",
       "      <td>-1.072</td>\n",
       "      <td>-9.416</td>\n",
       "    </tr>\n",
       "    <tr>\n",
       "      <th>2</th>\n",
       "      <td>144077.240</td>\n",
       "      <td>NaN</td>\n",
       "      <td>-5.826</td>\n",
       "      <td>2.489</td>\n",
       "      <td>20.946</td>\n",
       "      <td>1503.297</td>\n",
       "      <td>1500.366</td>\n",
       "      <td>1493.040</td>\n",
       "      <td>-2.733</td>\n",
       "      <td>0.947</td>\n",
       "      <td>3.496</td>\n",
       "      <td>-0.306</td>\n",
       "      <td>-1.148</td>\n",
       "      <td>-9.569</td>\n",
       "    </tr>\n",
       "    <tr>\n",
       "      <th>3</th>\n",
       "      <td>144078.217</td>\n",
       "      <td>NaN</td>\n",
       "      <td>-5.826</td>\n",
       "      <td>2.478</td>\n",
       "      <td>20.978</td>\n",
       "      <td>1505.495</td>\n",
       "      <td>1501.099</td>\n",
       "      <td>1495.971</td>\n",
       "      <td>-2.611</td>\n",
       "      <td>0.855</td>\n",
       "      <td>3.542</td>\n",
       "      <td>-0.383</td>\n",
       "      <td>-1.072</td>\n",
       "      <td>-9.340</td>\n",
       "    </tr>\n",
       "    <tr>\n",
       "      <th>4</th>\n",
       "      <td>144079.193</td>\n",
       "      <td>NaN</td>\n",
       "      <td>-5.804</td>\n",
       "      <td>2.467</td>\n",
       "      <td>20.978</td>\n",
       "      <td>1504.029</td>\n",
       "      <td>1501.099</td>\n",
       "      <td>1495.238</td>\n",
       "      <td>-2.244</td>\n",
       "      <td>0.931</td>\n",
       "      <td>3.573</td>\n",
       "      <td>-0.306</td>\n",
       "      <td>-1.148</td>\n",
       "      <td>-9.493</td>\n",
       "    </tr>\n",
       "  </tbody>\n",
       "</table>\n",
       "</div>"
      ],
      "text/plain": [
       "    Timestamp  PC Timestamp  Low Noise Accelerometer X  \\\n",
       "0  144075.287           NaN                     -5.815   \n",
       "1  144076.263           NaN                     -5.837   \n",
       "2  144077.240           NaN                     -5.826   \n",
       "3  144078.217           NaN                     -5.826   \n",
       "4  144079.193           NaN                     -5.804   \n",
       "\n",
       "   Low Noise Accelerometer Y  Low Noise Accelerometer Z   Int A12   Int A13  \\\n",
       "0                      2.457                     20.957  1504.029  1501.099   \n",
       "1                      2.457                     20.967  1504.029  1501.099   \n",
       "2                      2.489                     20.946  1503.297  1500.366   \n",
       "3                      2.478                     20.978  1505.495  1501.099   \n",
       "4                      2.467                     20.978  1504.029  1501.099   \n",
       "\n",
       "    Int A14  Gyroscope X  Gyroscope Y  Gyroscope Z  \\\n",
       "0  1495.971       -2.626        0.916        3.359   \n",
       "1  1495.971       -2.595        0.962        3.389   \n",
       "2  1493.040       -2.733        0.947        3.496   \n",
       "3  1495.971       -2.611        0.855        3.542   \n",
       "4  1495.238       -2.244        0.931        3.573   \n",
       "\n",
       "   Wide Range Accelerometer X  Wide Range Accelerometer Y  \\\n",
       "0                      -0.383                      -1.148   \n",
       "1                      -0.383                      -1.072   \n",
       "2                      -0.306                      -1.148   \n",
       "3                      -0.383                      -1.072   \n",
       "4                      -0.306                      -1.148   \n",
       "\n",
       "   Wide Range Accelerometer Z  \n",
       "0                      -9.263  \n",
       "1                      -9.416  \n",
       "2                      -9.569  \n",
       "3                      -9.340  \n",
       "4                      -9.493  "
      ]
     },
     "execution_count": 11,
     "metadata": {},
     "output_type": "execute_result"
    }
   ],
   "source": [
    "# load data from shimmer\n",
    "shimmer_data = pd.read_csv(Path(shimmer_data_dir, file_name), sep='\\t')\n",
    "shimmer_data.head()"
   ]
  },
  {
   "cell_type": "code",
   "execution_count": 12,
   "id": "554b05cb",
   "metadata": {},
   "outputs": [
    {
     "data": {
      "image/png": "[encoded data removed]",
      "text/plain": [
       "<Figure size 432x288 with 2 Axes>"
      ]
     },
     "metadata": {
      "needs_background": "light"
     },
     "output_type": "display_data"
    },
    {
     "data": {
      "image/png": "[encoded data removed]",
      "text/plain": [
       "<Figure size 432x288 with 2 Axes>"
      ]
     },
     "metadata": {
      "needs_background": "light"
     },
     "output_type": "display_data"
    }
   ],
   "source": [
    "data_range = 3000 # select number of samples to be processed\n",
    "\n",
    "def sync_force(plate_reaction_force, wireless_accel_force, data_range = 2000):\n",
    "    plate_peak_index = plate_reaction_force\n",
    "    wireless_accel_peak_index =  \n",
    "    return synchronized_vect\n",
    "\n",
    "# proces and plot pressures \n",
    "fig, axes = plt.subplots(nrows=2, ncols=1)\n",
    "chamber_pressure = crio_data.iloc[:data_range, 0:2].rolling(30).mean()\n",
    "chamber_pressure.plot.line(title = 'Pressure', ylabel = 'pressure [mbar]',\\\n",
    "                                     ax=axes[0])\n",
    "air_frame_pressure = crio_data.iloc[:data_range, 2:3].rolling(30).mean()\n",
    "air_frame_pressure.plot.line(xlabel = 'time [ms]', ylabel = 'pressure [mbar]',\\\n",
    "                                     ax=axes[1])\n",
    "plt.show()\n",
    "# proces and plot forces \n",
    "fig, axes = plt.subplots(nrows=2, ncols=1)\n",
    "impact_plate_reaction_force = crio_data.iloc[:data_range, 4:-2].sum(axis=1)\n",
    "force_offset = impact_plate_reaction_force.iloc[:500].mean()\n",
    "impact_plate_reaction_force = impact_plate_reaction_force.subtract(force_offset)\n",
    "impact_plate_reaction_force.plot.line(ylabel = 'impact plate\\n reaction force [N]', ax=axes[0])\n",
    "shimmer_force = np.sqrt(np.sum(np.power(shimmer_data.iloc[:,-3:], 2), axis=1))\n",
    "shimmer_force = shimmer_force.rolling(30).mean()\n",
    "shimmer_force.plot.line(xlabel = 'time [ms]', ylabel = 'wireless accelerometer\\n force [N]', ax=axes[1])\n",
    "plt.show()"
   ]
  },
  {
   "cell_type": "code",
   "execution_count": 13,
   "id": "3a10c111",
   "metadata": {},
   "outputs": [
    {
     "data": {
      "text/html": [
       "<video src=\"Pomiary/SkokochronAdaptacyjny/movies/zrzut_m10kg_h3500_v1-4_1.mp4\" controls  width=\"600\"  height=\"480\">\n",
       "      Your browser does not support the <code>video</code> element.\n",
       "    </video>"
      ],
      "text/plain": [
       "<IPython.core.display.Video object>"
      ]
     },
     "execution_count": 13,
     "metadata": {},
     "output_type": "execute_result"
    }
   ],
   "source": [
    "movie_title = file_name[:-3]+'mp4'\n",
    "movie_path = Path(data_dir, 'movies', movie_title)\n",
    "Video(movie_path, width=600, height=480)"
   ]
  },
  {
   "cell_type": "markdown",
   "id": "39ea4906",
   "metadata": {},
   "source": [
    "### Impact absorption of the air cushion - opening of valves 1/1"
   ]
  },
  {
   "cell_type": "code",
   "execution_count": 14,
   "id": "38b96bcd",
   "metadata": {},
   "outputs": [
    {
     "data": {
      "text/html": [
       "<div>\n",
       "<style scoped>\n",
       "    .dataframe tbody tr th:only-of-type {\n",
       "        vertical-align: middle;\n",
       "    }\n",
       "\n",
       "    .dataframe tbody tr th {\n",
       "        vertical-align: top;\n",
       "    }\n",
       "\n",
       "    .dataframe thead th {\n",
       "        text-align: right;\n",
       "    }\n",
       "</style>\n",
       "<table border=\"1\" class=\"dataframe\">\n",
       "  <thead>\n",
       "    <tr style=\"text-align: right;\">\n",
       "      <th></th>\n",
       "      <th>Top chamber pressure</th>\n",
       "      <th>Bottom chamber pressure</th>\n",
       "      <th>Air frame pressure</th>\n",
       "      <th>Absolute pressure</th>\n",
       "      <th>Force 1</th>\n",
       "      <th>Force 2</th>\n",
       "      <th>Force 3</th>\n",
       "      <th>Force 4</th>\n",
       "      <th>Sum of forces</th>\n",
       "    </tr>\n",
       "  </thead>\n",
       "  <tbody>\n",
       "    <tr>\n",
       "      <th>0</th>\n",
       "      <td>-0.271078</td>\n",
       "      <td>0.266636</td>\n",
       "      <td>166.041912</td>\n",
       "      <td>993.219859</td>\n",
       "      <td>72.459090</td>\n",
       "      <td>303.453126</td>\n",
       "      <td>5221.493786</td>\n",
       "      <td>81.774610</td>\n",
       "      <td>5679.180611</td>\n",
       "    </tr>\n",
       "    <tr>\n",
       "      <th>1</th>\n",
       "      <td>1.493938</td>\n",
       "      <td>-0.964770</td>\n",
       "      <td>166.041912</td>\n",
       "      <td>994.328157</td>\n",
       "      <td>69.114073</td>\n",
       "      <td>303.295123</td>\n",
       "      <td>5221.493786</td>\n",
       "      <td>78.290745</td>\n",
       "      <td>5672.193726</td>\n",
       "    </tr>\n",
       "    <tr>\n",
       "      <th>2</th>\n",
       "      <td>-0.180775</td>\n",
       "      <td>0.106553</td>\n",
       "      <td>163.989898</td>\n",
       "      <td>995.600646</td>\n",
       "      <td>71.184798</td>\n",
       "      <td>304.243144</td>\n",
       "      <td>5221.493786</td>\n",
       "      <td>82.408040</td>\n",
       "      <td>5679.329767</td>\n",
       "    </tr>\n",
       "    <tr>\n",
       "      <th>3</th>\n",
       "      <td>0.131182</td>\n",
       "      <td>0.196857</td>\n",
       "      <td>165.139026</td>\n",
       "      <td>994.738637</td>\n",
       "      <td>70.388365</td>\n",
       "      <td>304.875158</td>\n",
       "      <td>5221.493786</td>\n",
       "      <td>81.457895</td>\n",
       "      <td>5678.215203</td>\n",
       "    </tr>\n",
       "    <tr>\n",
       "      <th>4</th>\n",
       "      <td>1.612974</td>\n",
       "      <td>-0.275183</td>\n",
       "      <td>164.974865</td>\n",
       "      <td>994.574445</td>\n",
       "      <td>68.954786</td>\n",
       "      <td>305.191165</td>\n",
       "      <td>5221.493786</td>\n",
       "      <td>78.765817</td>\n",
       "      <td>5674.405554</td>\n",
       "    </tr>\n",
       "  </tbody>\n",
       "</table>\n",
       "</div>"
      ],
      "text/plain": [
       "   Top chamber pressure  Bottom chamber pressure  Air frame pressure  \\\n",
       "0             -0.271078                 0.266636          166.041912   \n",
       "1              1.493938                -0.964770          166.041912   \n",
       "2             -0.180775                 0.106553          163.989898   \n",
       "3              0.131182                 0.196857          165.139026   \n",
       "4              1.612974                -0.275183          164.974865   \n",
       "\n",
       "   Absolute pressure    Force 1     Force 2      Force 3    Force 4  \\\n",
       "0         993.219859  72.459090  303.453126  5221.493786  81.774610   \n",
       "1         994.328157  69.114073  303.295123  5221.493786  78.290745   \n",
       "2         995.600646  71.184798  304.243144  5221.493786  82.408040   \n",
       "3         994.738637  70.388365  304.875158  5221.493786  81.457895   \n",
       "4         994.574445  68.954786  305.191165  5221.493786  78.765817   \n",
       "\n",
       "   Sum of forces  \n",
       "0    5679.180611  \n",
       "1    5672.193726  \n",
       "2    5679.329767  \n",
       "3    5678.215203  \n",
       "4    5674.405554  "
      ]
     },
     "execution_count": 14,
     "metadata": {},
     "output_type": "execute_result"
    }
   ],
   "source": [
    "# set file path\n",
    "file_name = 'zrzut_m10kg_h3500_v1-1_2.txt'\n",
    "data_dir = 'Pomiary/SkokochronAdaptacyjny/'\n",
    "crio_data_dir = Path(data_dir, 'data_crio/')\n",
    "shimmer_data_dir = Path(data_dir, 'data_shimmer/')\n",
    "\n",
    "# load data from c-rio\n",
    "crio_data = pd.read_csv(Path(crio_data_dir, file_name), sep='\\t', header = None)\n",
    "crio_data.drop([0, 10], axis = 1, inplace=True)\n",
    "crio_data.columns = ['Top chamber pressure', 'Bottom chamber pressure','Air frame pressure',\\\n",
    "                     'Absolute pressure', 'Force 1', 'Force 2',\\\n",
    "                     'Force 3', 'Force 4', 'Sum of forces']\n",
    "crio_data.head()"
   ]
  },
  {
   "cell_type": "code",
   "execution_count": 15,
   "id": "d3c4d9ac",
   "metadata": {},
   "outputs": [
    {
     "data": {
      "text/html": [
       "<div>\n",
       "<style scoped>\n",
       "    .dataframe tbody tr th:only-of-type {\n",
       "        vertical-align: middle;\n",
       "    }\n",
       "\n",
       "    .dataframe tbody tr th {\n",
       "        vertical-align: top;\n",
       "    }\n",
       "\n",
       "    .dataframe thead th {\n",
       "        text-align: right;\n",
       "    }\n",
       "</style>\n",
       "<table border=\"1\" class=\"dataframe\">\n",
       "  <thead>\n",
       "    <tr style=\"text-align: right;\">\n",
       "      <th></th>\n",
       "      <th>Timestamp</th>\n",
       "      <th>PC Timestamp</th>\n",
       "      <th>Low Noise Accelerometer X</th>\n",
       "      <th>Low Noise Accelerometer Y</th>\n",
       "      <th>Low Noise Accelerometer Z</th>\n",
       "      <th>Int A12</th>\n",
       "      <th>Int A13</th>\n",
       "      <th>Int A14</th>\n",
       "      <th>Gyroscope X</th>\n",
       "      <th>Gyroscope Y</th>\n",
       "      <th>Gyroscope Z</th>\n",
       "      <th>Wide Range Accelerometer X</th>\n",
       "      <th>Wide Range Accelerometer Y</th>\n",
       "      <th>Wide Range Accelerometer Z</th>\n",
       "    </tr>\n",
       "  </thead>\n",
       "  <tbody>\n",
       "    <tr>\n",
       "      <th>0</th>\n",
       "      <td>186938.080</td>\n",
       "      <td>NaN</td>\n",
       "      <td>-6.098</td>\n",
       "      <td>2.337</td>\n",
       "      <td>20.935</td>\n",
       "      <td>1503.297</td>\n",
       "      <td>1499.634</td>\n",
       "      <td>1496.703</td>\n",
       "      <td>-0.992</td>\n",
       "      <td>0.290</td>\n",
       "      <td>-1.863</td>\n",
       "      <td>-0.459</td>\n",
       "      <td>-1.148</td>\n",
       "      <td>-9.493</td>\n",
       "    </tr>\n",
       "    <tr>\n",
       "      <th>1</th>\n",
       "      <td>186939.056</td>\n",
       "      <td>NaN</td>\n",
       "      <td>-5.696</td>\n",
       "      <td>2.370</td>\n",
       "      <td>21.130</td>\n",
       "      <td>1504.029</td>\n",
       "      <td>1499.634</td>\n",
       "      <td>1495.971</td>\n",
       "      <td>-0.901</td>\n",
       "      <td>0.229</td>\n",
       "      <td>-1.771</td>\n",
       "      <td>-0.077</td>\n",
       "      <td>-1.301</td>\n",
       "      <td>-9.263</td>\n",
       "    </tr>\n",
       "    <tr>\n",
       "      <th>2</th>\n",
       "      <td>186940.033</td>\n",
       "      <td>NaN</td>\n",
       "      <td>-5.989</td>\n",
       "      <td>2.370</td>\n",
       "      <td>20.989</td>\n",
       "      <td>1505.495</td>\n",
       "      <td>1500.366</td>\n",
       "      <td>1497.436</td>\n",
       "      <td>-1.145</td>\n",
       "      <td>0.260</td>\n",
       "      <td>-1.725</td>\n",
       "      <td>-0.383</td>\n",
       "      <td>-1.301</td>\n",
       "      <td>-9.416</td>\n",
       "    </tr>\n",
       "    <tr>\n",
       "      <th>3</th>\n",
       "      <td>186941.010</td>\n",
       "      <td>NaN</td>\n",
       "      <td>-5.989</td>\n",
       "      <td>2.326</td>\n",
       "      <td>20.859</td>\n",
       "      <td>1504.029</td>\n",
       "      <td>1500.366</td>\n",
       "      <td>1495.238</td>\n",
       "      <td>-1.115</td>\n",
       "      <td>0.290</td>\n",
       "      <td>-1.588</td>\n",
       "      <td>-0.459</td>\n",
       "      <td>-1.378</td>\n",
       "      <td>-9.263</td>\n",
       "    </tr>\n",
       "    <tr>\n",
       "      <th>4</th>\n",
       "      <td>186941.986</td>\n",
       "      <td>NaN</td>\n",
       "      <td>-6.033</td>\n",
       "      <td>2.304</td>\n",
       "      <td>21.033</td>\n",
       "      <td>1503.297</td>\n",
       "      <td>1500.366</td>\n",
       "      <td>1495.238</td>\n",
       "      <td>-1.008</td>\n",
       "      <td>0.321</td>\n",
       "      <td>-1.496</td>\n",
       "      <td>-0.842</td>\n",
       "      <td>-1.301</td>\n",
       "      <td>-9.493</td>\n",
       "    </tr>\n",
       "  </tbody>\n",
       "</table>\n",
       "</div>"
      ],
      "text/plain": [
       "    Timestamp  PC Timestamp  Low Noise Accelerometer X  \\\n",
       "0  186938.080           NaN                     -6.098   \n",
       "1  186939.056           NaN                     -5.696   \n",
       "2  186940.033           NaN                     -5.989   \n",
       "3  186941.010           NaN                     -5.989   \n",
       "4  186941.986           NaN                     -6.033   \n",
       "\n",
       "   Low Noise Accelerometer Y  Low Noise Accelerometer Z   Int A12   Int A13  \\\n",
       "0                      2.337                     20.935  1503.297  1499.634   \n",
       "1                      2.370                     21.130  1504.029  1499.634   \n",
       "2                      2.370                     20.989  1505.495  1500.366   \n",
       "3                      2.326                     20.859  1504.029  1500.366   \n",
       "4                      2.304                     21.033  1503.297  1500.366   \n",
       "\n",
       "    Int A14  Gyroscope X  Gyroscope Y  Gyroscope Z  \\\n",
       "0  1496.703       -0.992        0.290       -1.863   \n",
       "1  1495.971       -0.901        0.229       -1.771   \n",
       "2  1497.436       -1.145        0.260       -1.725   \n",
       "3  1495.238       -1.115        0.290       -1.588   \n",
       "4  1495.238       -1.008        0.321       -1.496   \n",
       "\n",
       "   Wide Range Accelerometer X  Wide Range Accelerometer Y  \\\n",
       "0                      -0.459                      -1.148   \n",
       "1                      -0.077                      -1.301   \n",
       "2                      -0.383                      -1.301   \n",
       "3                      -0.459                      -1.378   \n",
       "4                      -0.842                      -1.301   \n",
       "\n",
       "   Wide Range Accelerometer Z  \n",
       "0                      -9.493  \n",
       "1                      -9.263  \n",
       "2                      -9.416  \n",
       "3                      -9.263  \n",
       "4                      -9.493  "
      ]
     },
     "execution_count": 15,
     "metadata": {},
     "output_type": "execute_result"
    }
   ],
   "source": [
    "# load data from shimmer\n",
    "shimmer_data = pd.read_csv(Path(shimmer_data_dir, file_name), sep='\\t')\n",
    "shimmer_data.head()"
   ]
  },
  {
   "cell_type": "code",
   "execution_count": 16,
   "id": "ec457d84",
   "metadata": {},
   "outputs": [
    {
     "data": {
      "image/png": "[encoded data removed]",
      "text/plain": [
       "<Figure size 432x288 with 2 Axes>"
      ]
     },
     "metadata": {
      "needs_background": "light"
     },
     "output_type": "display_data"
    },
    {
     "data": {
      "image/png": "[encoded data removed]",
      "text/plain": [
       "<Figure size 432x288 with 2 Axes>"
      ]
     },
     "metadata": {
      "needs_background": "light"
     },
     "output_type": "display_data"
    }
   ],
   "source": [
    "data_range = 3000 # select number of samples to be processed\n",
    "\n",
    "# proces and plot pressures \n",
    "fig, axes = plt.subplots(nrows=2, ncols=1)\n",
    "chamber_pressure = crio_data.iloc[:data_range, 0:2].rolling(30).mean()\n",
    "chamber_pressure.plot.line(title = 'Pressure', ylabel = 'pressure [mbar]',\\\n",
    "                                     ax=axes[0])\n",
    "air_frame_pressure = crio_data.iloc[:data_range, 2:3].rolling(30).mean()\n",
    "air_frame_pressure.plot.line(xlabel = 'time [ms]', ylabel = 'pressure [mbar]',\\\n",
    "                                     ax=axes[1])\n",
    "plt.show()\n",
    "# proces and plot forces \n",
    "fig, axes = plt.subplots(nrows=2, ncols=1)\n",
    "impact_plate_reaction_force = crio_data.iloc[:data_range, 4:-2].sum(axis=1)\n",
    "force_offset = impact_plate_reaction_force.iloc[:500].mean()\n",
    "impact_plate_reaction_force = impact_plate_reaction_force.subtract(force_offset)\n",
    "impact_plate_reaction_force.plot.line(ylabel = 'impact plate\\n reaction force [N]', ax=axes[0])\n",
    "shimmer_force = np.sqrt(np.sum(np.power(shimmer_data.iloc[:,-3:], 2), axis=1))\n",
    "shimmer_force = shimmer_force.rolling(30).mean()\n",
    "shimmer_force.plot.line(xlabel = 'time [ms]', ylabel = 'wireless accelerometer\\n force [N]', ax=axes[1])\n",
    "plt.show()"
   ]
  },
  {
   "cell_type": "code",
   "execution_count": 17,
   "id": "d417b907",
   "metadata": {},
   "outputs": [
    {
     "data": {
      "text/html": [
       "<video src=\"Pomiary/SkokochronAdaptacyjny/movies/zrzut_m10kg_h3500_v1-1_2.mp4\" controls  width=\"600\"  height=\"480\">\n",
       "      Your browser does not support the <code>video</code> element.\n",
       "    </video>"
      ],
      "text/plain": [
       "<IPython.core.display.Video object>"
      ]
     },
     "execution_count": 17,
     "metadata": {},
     "output_type": "execute_result"
    }
   ],
   "source": [
    "movie_title = file_name[:-3]+'mp4'\n",
    "movie_path = Path(data_dir, 'movies', movie_title)\n",
    "Video(movie_path, width=600, height=480)"
   ]
  },
  {
   "cell_type": "code",
   "execution_count": null,
   "id": "11aa7372",
   "metadata": {},
   "outputs": [],
   "source": []
  }
 ],
 "metadata": {
  "kernelspec": {
   "display_name": "Python 3 (ipykernel)",
   "language": "python",
   "name": "python3"
  },
  "language_info": {
   "codemirror_mode": {
    "name": "ipython",
    "version": 3
   },
   "file_extension": ".py",
   "mimetype": "text/x-python",
   "name": "python",
   "nbconvert_exporter": "python",
   "pygments_lexer": "ipython3",
   "version": "3.9.7"
  }
 },
 "nbformat": 4,
 "nbformat_minor": 5
}
